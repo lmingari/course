{
 "cells": [
  {
   "cell_type": "markdown",
   "metadata": {},
   "source": [
    "# 3-Arrays: Working with multi-dimensional arrays\n",
    "\n",
    "In this section, we introduce the python package `xarray`.\n",
    "\n",
    "`xarray` is useful for working with labeled multi-dimensional arrays, it includes functions for advanced analytics and visualization. \n",
    "\n",
    "`xarray` is heavily inspired by pandas and it uses pandas internally. \n",
    "\n",
    "We'll see two high-level data structures, `Dataset` and `DataArray`\n",
    "\n",
    "## Opening a `Dataset`\n",
    "\n",
    "For this example, we'll use the file: `t2m_1990-1999.nc` with 30-years data of temperature for a domain around Barcelona.\n",
    "\n",
    "First, use the `open_dataset` function to create an instance of a `Dataset` defined in `xarray`:\n"
   ]
  },
  {
   "cell_type": "code",
   "execution_count": null,
   "metadata": {
    "collapsed": true,
    "scrolled": false
   },
   "outputs": [],
   "source": [
    "import xarray as xr\n",
    "import numpy as np\n",
    "import matplotlib.pyplot as plt\n",
    "import os\n",
    "\n",
    "path  = \"./3-Arrays\"\n",
    "fname = \"t2m_1990-1999.nc\"\n",
    "era5_file = os.path.join(path,fname)\n",
    "ds = xr.open_dataset(era5_file)"
   ]
  },
  {
   "cell_type": "code",
   "execution_count": null,
   "metadata": {},
   "outputs": [],
   "source": [
    "ds"
   ]
  },
  {
   "cell_type": "markdown",
   "metadata": {},
   "source": [
    "We can access to a variable from a `Dataset` through a `DataArray` instance: "
   ]
  },
  {
   "cell_type": "code",
   "execution_count": null,
   "metadata": {},
   "outputs": [],
   "source": [
    "ds.t2m"
   ]
  },
  {
   "cell_type": "code",
   "execution_count": null,
   "metadata": {},
   "outputs": [],
   "source": [
    "ds.t2m.latitude"
   ]
  },
  {
   "cell_type": "code",
   "execution_count": null,
   "metadata": {},
   "outputs": [],
   "source": [
    "ds.t2m.attrs['units']"
   ]
  },
  {
   "cell_type": "code",
   "execution_count": null,
   "metadata": {},
   "outputs": [],
   "source": [
    "ds.t2m.max(dim='time')"
   ]
  },
  {
   "cell_type": "markdown",
   "metadata": {},
   "source": [
    "## Selecting data\n",
    "\n",
    "Use `sel` to select by dimension name and coordinate label.\n",
    "\n",
    "For example, get the time series of 2-m temperature for the Barcelona location (approximately)"
   ]
  },
  {
   "cell_type": "code",
   "execution_count": null,
   "metadata": {
    "collapsed": true
   },
   "outputs": [],
   "source": [
    "t2m_bcn = ds.t2m.sel(latitude=41.5,longitude=2.25)"
   ]
  },
  {
   "cell_type": "code",
   "execution_count": null,
   "metadata": {
    "collapsed": true
   },
   "outputs": [],
   "source": [
    "#Barcelona coordinates\n",
    "lat_bcn, lon_bcn = (41.3851, 2.1734)\n",
    "t2m_bcn = ds.t2m.sel(latitude=lat_bcn,longitude=lon_bcn, method='nearest')"
   ]
  },
  {
   "cell_type": "code",
   "execution_count": null,
   "metadata": {},
   "outputs": [],
   "source": [
    "t2m_bcn"
   ]
  },
  {
   "cell_type": "markdown",
   "metadata": {},
   "source": [
    "## Interpolating\n",
    "\n",
    "Multidimensional interpolation of Dataset:"
   ]
  },
  {
   "cell_type": "code",
   "execution_count": null,
   "metadata": {
    "collapsed": true
   },
   "outputs": [],
   "source": [
    "#By default it uses linear interpolation\n",
    "t2m = ds.t2m.interp(latitude=lat_bcn,longitude=lon_bcn)"
   ]
  },
  {
   "cell_type": "code",
   "execution_count": null,
   "metadata": {
    "scrolled": true
   },
   "outputs": [],
   "source": [
    "t2m"
   ]
  },
  {
   "cell_type": "code",
   "execution_count": null,
   "metadata": {},
   "outputs": [],
   "source": [
    "np.abs(t2m-t2m_bcn).max()"
   ]
  },
  {
   "cell_type": "markdown",
   "metadata": {},
   "source": [
    "## Group Data By Date\n",
    "\n",
    "As in `pandas`, we can use `resample`:"
   ]
  },
  {
   "cell_type": "code",
   "execution_count": null,
   "metadata": {},
   "outputs": [],
   "source": [
    "# Group the data by month, and take the mean for each group (i.e. each month)\n",
    "t2m.resample(time='M')"
   ]
  },
  {
   "cell_type": "code",
   "execution_count": null,
   "metadata": {},
   "outputs": [],
   "source": [
    "t2m_bcn.resample(time='M').mean()"
   ]
  },
  {
   "cell_type": "code",
   "execution_count": null,
   "metadata": {},
   "outputs": [],
   "source": [
    "t2m.plot(figsize=(15,5))\n",
    "t2m.resample(time='1M').min().plot(drawstyle='steps-pre')\n",
    "t2m.resample(time='1M').max().plot(drawstyle='steps-pre')\n",
    "plt.show()"
   ]
  },
  {
   "cell_type": "code",
   "execution_count": null,
   "metadata": {},
   "outputs": [],
   "source": [
    "t2m.groupby('time.month').mean().plot()\n",
    "plt.show()"
   ]
  },
  {
   "cell_type": "code",
   "execution_count": null,
   "metadata": {},
   "outputs": [],
   "source": [
    "#Change units from K to C\n",
    "t2m -= 273.15\n",
    "t2m.attrs['units'] = \"C\"\n",
    "t2m.attrs['long_name'] = '2 metre temperature'\n",
    "\n",
    "t2m.groupby('time.month').mean().plot()\n",
    "t2m.groupby('time.month').max().plot()\n",
    "t2m.groupby('time.month').min().plot()\n",
    "\n",
    "plt.show()"
   ]
  },
  {
   "cell_type": "code",
   "execution_count": null,
   "metadata": {},
   "outputs": [],
   "source": [
    "t2m.groupby('time.season').min()\n",
    "t2m.groupby('time.season').max()"
   ]
  },
  {
   "cell_type": "markdown",
   "metadata": {},
   "source": [
    "## Plotting time series"
   ]
  },
  {
   "cell_type": "code",
   "execution_count": null,
   "metadata": {},
   "outputs": [],
   "source": [
    "fig, (ax1, ax2) = plt.subplots(ncols=2, figsize=(15,5))\n",
    "\n",
    "t2m.plot(ax=ax1)\n",
    "t2m.groupby('time.month').mean().plot(ax=ax2)\n",
    "\n",
    "# Each Axes has a title, set via set_title()\n",
    "ax1.set_title(\"hourly time series\")\n",
    "ax2.set_title(\"monthly average\")\n",
    "\n",
    "plt.show()"
   ]
  },
  {
   "cell_type": "markdown",
   "metadata": {
    "collapsed": true
   },
   "source": [
    "## Opening multiple files as a single dataset"
   ]
  },
  {
   "cell_type": "code",
   "execution_count": null,
   "metadata": {},
   "outputs": [],
   "source": [
    "import glob \n",
    "\n",
    "path      = \"3-Arrays\"\n",
    "fnames    = os.path.join(path,\"*nc\")\n",
    "nc_files  = glob.glob(fnames)\n",
    "nc_files"
   ]
  },
  {
   "cell_type": "code",
   "execution_count": null,
   "metadata": {},
   "outputs": [],
   "source": [
    "ds = xr.open_mfdataset(nc_files)\n",
    "ds"
   ]
  },
  {
   "cell_type": "code",
   "execution_count": null,
   "metadata": {
    "collapsed": true
   },
   "outputs": [],
   "source": [
    "#Interpolate and change units\n",
    "t2m = ds.t2m.interp(latitude=lat_bcn,longitude=lon_bcn)\n",
    "\n",
    "t2m -= 273.15\n",
    "t2m.attrs['units'] = \"C\"\n",
    "t2m.attrs['long_name'] = '2 metre temperature'"
   ]
  },
  {
   "cell_type": "code",
   "execution_count": null,
   "metadata": {},
   "outputs": [],
   "source": [
    "fig, (ax1, ax2) = plt.subplots(nrows=2, figsize=(12,6))\n",
    "\n",
    "t2m.plot(ax=ax1)\n",
    "t2m.groupby('time.month').mean().plot(ax=ax2)\n",
    "\n",
    "# Each Axes has a title, set via set_title()\n",
    "ax1.set_title(\"hourly time series\")\n",
    "ax2.set_title(\"monthly average\")\n",
    "\n",
    "plt.tight_layout()\n",
    "plt.show()"
   ]
  },
  {
   "cell_type": "code",
   "execution_count": null,
   "metadata": {},
   "outputs": [],
   "source": [
    "#annual average temperature\n",
    "t2m.resample(time=\"A\").mean().plot()\n",
    "plt.show()"
   ]
  },
  {
   "cell_type": "markdown",
   "metadata": {},
   "source": [
    "## Accessing to remote data"
   ]
  },
  {
   "cell_type": "markdown",
   "metadata": {},
   "source": [
    "`xarray` includes support for OPeNDAP (via the netCDF4 library or Pydap), which lets us access large datasets over HTTP.\n",
    "\n",
    "For example, we can access to GFS forecast:"
   ]
  },
  {
   "cell_type": "code",
   "execution_count": 120,
   "metadata": {
    "collapsed": true
   },
   "outputs": [],
   "source": [
    "url = \"https://nomads.ncep.noaa.gov:9090/dods/gfs_0p25/gfs20191204/gfs_0p25_12z\"\n",
    "\n",
    "ds = xr.open_dataset(url)"
   ]
  },
  {
   "cell_type": "code",
   "execution_count": null,
   "metadata": {
    "collapsed": true
   },
   "outputs": [],
   "source": []
  }
 ],
 "metadata": {
  "kernelspec": {
   "display_name": "Python 3",
   "language": "python",
   "name": "python3"
  },
  "language_info": {
   "codemirror_mode": {
    "name": "ipython",
    "version": 3
   },
   "file_extension": ".py",
   "mimetype": "text/x-python",
   "name": "python",
   "nbconvert_exporter": "python",
   "pygments_lexer": "ipython3",
   "version": "3.6.7"
  }
 },
 "nbformat": 4,
 "nbformat_minor": 2
}
