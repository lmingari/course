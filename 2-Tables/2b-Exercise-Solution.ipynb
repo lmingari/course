{
 "cells": [
  {
   "cell_type": "markdown",
   "metadata": {},
   "source": [
    "## Exercise for part 2\n",
    "\n",
    "Load the file `distances.csv` with the distances between the Etna volcano and each city. Create a `DataFrame` with both the distances and the maximum deposit accumulation predicted by the FALL3D model for each city. Finally, plot max. load vs. distance using a logarithmic scale. "
   ]
  },
  {
   "cell_type": "code",
   "execution_count": null,
   "metadata": {
    "collapsed": true
   },
   "outputs": [],
   "source": [
    "import pandas as pd\n",
    "import matplotlib.pyplot as plt\n",
    "import os\n",
    "import glob \n",
    "\n",
    "path      = \".\"\n",
    "fnames    = os.path.join(path,\"*res\")\n",
    "pts_files = glob.glob(fnames)"
   ]
  },
  {
   "cell_type": "code",
   "execution_count": null,
   "metadata": {},
   "outputs": [],
   "source": [
    "mydateparser = lambda x: pd.datetime.strptime(x, \"%d%b%Y_%H:%M\")\n",
    "cities       = [s.split('.')[2] for s in pts_files]\n",
    "columns      = ['load',\n",
    "                'total',\n",
    "                'pm05',\n",
    "                'pm10',\n",
    "                'pm20',                \n",
    "               ]\n",
    "\n",
    "args = dict(skiprows         = 7, \n",
    "            delim_whitespace = True, \n",
    "            names            = columns, \n",
    "            date_parser      = mydateparser,\n",
    "           )\n",
    "\n",
    "df = pd.concat((pd.read_csv(f,**args) for f in pts_files), \n",
    "               keys=cities, \n",
    "               names=[\"city\",\"datetime\"], \n",
    "              )\n"
   ]
  },
  {
   "cell_type": "code",
   "execution_count": null,
   "metadata": {},
   "outputs": [],
   "source": [
    "fname = os.path.join(path,'distances.csv')\n",
    "df2   = pd.read_csv(fname, index_col=0)\n",
    "df2"
   ]
  },
  {
   "cell_type": "code",
   "execution_count": null,
   "metadata": {},
   "outputs": [],
   "source": [
    "df.load.groupby('city').max()"
   ]
  },
  {
   "cell_type": "code",
   "execution_count": null,
   "metadata": {},
   "outputs": [],
   "source": [
    "df2['max_load'] = df.load.groupby('city').max()\n",
    "df2"
   ]
  },
  {
   "cell_type": "code",
   "execution_count": null,
   "metadata": {},
   "outputs": [],
   "source": [
    "df2.plot.scatter(x='distance', y='max_load', marker='o', logy=True)\n",
    "plt.show()"
   ]
  }
 ],
 "metadata": {
  "kernelspec": {
   "display_name": "Python 3",
   "language": "python",
   "name": "python3"
  },
  "language_info": {
   "codemirror_mode": {
    "name": "ipython",
    "version": 3
   },
   "file_extension": ".py",
   "mimetype": "text/x-python",
   "name": "python",
   "nbconvert_exporter": "python",
   "pygments_lexer": "ipython3",
   "version": "3.6.7"
  }
 },
 "nbformat": 4,
 "nbformat_minor": 2
}
