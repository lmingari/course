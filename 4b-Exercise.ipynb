{
 "cells": [
  {
   "cell_type": "markdown",
   "metadata": {},
   "source": [
    "# Exercise for part 4\n",
    "\n",
    "For this exercise you will use the WRF-ARW output file: `wrf_filtered.nc`.\n",
    "\n",
    "The WRF-ARW model is a mesoscale numerical weather prediction system \n",
    "designed for both atmospheric research and operational forecasting \n",
    "applications.\n",
    "\n",
    "**Part A:**\n",
    "\n",
    "Plot the 2-m temperature field on 3 Dec 2015 at 15:00\n",
    "using 16 contour levels:\n",
    "* on the equidistant cylindrical projection\n",
    "* on the native Lambert Conformal projection\n",
    "\n",
    "In this exercise you can use the `XLAT` and `XLONG` \n",
    "2D-arrays providing the coordinates for each point.\n",
    "\n",
    "**Part B:**\n",
    "\n",
    "Plot again the temperature field in the native grid \n",
    "using the projection information specified as global \n",
    "attributes (i.e., don't use `XLAT` and `XLONG`).\n",
    "\n",
    "For this exercise use ax.contourf and ax.imshow and\n",
    "compare the performances printing the time of the \n",
    "execution.\n",
    "\n",
    "_Hints:_\n",
    "* Use the gobal attributes to define the Lambert projection: CEN_LON, CEN_LAT, TRUELAT1, TRUELAT2, DX, DY\n",
    "* In part B, set the parameter `extent`"
   ]
  },
  {
   "cell_type": "code",
   "execution_count": null,
   "metadata": {},
   "outputs": [],
   "source": []
  }
 ],
 "metadata": {
  "kernelspec": {
   "display_name": "Python 3",
   "language": "python",
   "name": "python3"
  },
  "language_info": {
   "codemirror_mode": {
    "name": "ipython",
    "version": 3
   },
   "file_extension": ".py",
   "mimetype": "text/x-python",
   "name": "python",
   "nbconvert_exporter": "python",
   "pygments_lexer": "ipython3",
   "version": "3.8.0"
  }
 },
 "nbformat": 4,
 "nbformat_minor": 2
}
