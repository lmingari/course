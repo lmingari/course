{
 "cells": [
  {
   "cell_type": "markdown",
   "metadata": {},
   "source": [
    "## Exercise for part 1\n",
    "\n",
    "Define a `MyTodayClass` class in order to reproduce the output of this code:\n",
    "\n",
    "```python\n",
    "x = MyTodayClass()\n",
    "x.show_date()\n",
    "x.move_backward(days=4)\n",
    "x.show_date()\n",
    "x.move_forward(days=6)\n",
    "x.show_date()\n",
    "```\n",
    "\n",
    "Output:\n",
    "```\n",
    "Today is Wednesday, 04 Dec, 2019\n",
    "4 days ago was: Saturday, 30 Nov, 2019\n",
    "after 2 days it will be: Friday, 06 Dec, 2019\n",
    "```"
   ]
  },
  {
   "cell_type": "code",
   "execution_count": null,
   "metadata": {
    "collapsed": true
   },
   "outputs": [],
   "source": [
    "from datetime import date, timedelta\n",
    "\n",
    "class MyTodayClass():\n",
    "    '''A class representing the current day'''\n",
    "    #Complete here\n"
   ]
  },
  {
   "cell_type": "code",
   "execution_count": null,
   "metadata": {},
   "outputs": [],
   "source": [
    "x = MyTodayClass()\n",
    "x.show_date()\n",
    "x.move_backward(days=4)\n",
    "x.show_date()\n",
    "x.move_forward(days=6)\n",
    "x.show_date()"
   ]
  },
  {
   "cell_type": "code",
   "execution_count": null,
   "metadata": {
    "collapsed": true
   },
   "outputs": [],
   "source": []
  }
 ],
 "metadata": {
  "kernelspec": {
   "display_name": "Python 3",
   "language": "python",
   "name": "python3"
  },
  "language_info": {
   "codemirror_mode": {
    "name": "ipython",
    "version": 3
   },
   "file_extension": ".py",
   "mimetype": "text/x-python",
   "name": "python",
   "nbconvert_exporter": "python",
   "pygments_lexer": "ipython3",
   "version": "3.6.7"
  }
 },
 "nbformat": 4,
 "nbformat_minor": 2
}
