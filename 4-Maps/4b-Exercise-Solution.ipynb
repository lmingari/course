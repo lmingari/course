{
 "cells": [
  {
   "cell_type": "markdown",
   "metadata": {},
   "source": [
    "# Exercise for the part 4\n",
    "\n",
    "For this exercise you will use the WRF-ARW output file: `wrf_filtered.nc`.\n",
    "\n",
    "The WRF-ARW model is a mesoscale numerical weather prediction system \n",
    "designed for both atmospheric research and operational forecasting \n",
    "applications.\n",
    "\n",
    "**Part A:**\n",
    "\n",
    "Plot the 2-m temperature field on 3 Dec 2015 at 15:00\n",
    "using 16 contour levels:\n",
    "* on the equidistant cylindrical projection\n",
    "* on the native Lambert Conformal projection\n",
    "\n",
    "In this exercise you can use the `XLAT` and `XLONG` \n",
    "2D-arrays providing the coordinates for each point.\n",
    "\n",
    "**Part B:**\n",
    "\n",
    "Plot again the temperature field in the native grid \n",
    "using the projection information specified as global \n",
    "attributes (i.e., don't use `XLAT` and `XLONG`).\n",
    "\n",
    "For this exercise use ax.contourf and ax.imshow and\n",
    "compare the performances printing the time of the \n",
    "execution.\n",
    "\n",
    "_Hints:_\n",
    "* Use the gobal attributes to define the Lambert projection: CEN_LON, CEN_LAT, TRUELAT1, TRUELAT2, DX, DY\n",
    "* In part B, set the parameter `extent`"
   ]
  },
  {
   "cell_type": "code",
   "execution_count": null,
   "metadata": {},
   "outputs": [],
   "source": [
    "import numpy as np\n",
    "import xarray as xr\n",
    "import matplotlib.pyplot as plt\n",
    "import cartopy.crs as ccrs\n",
    "import os"
   ]
  },
  {
   "cell_type": "code",
   "execution_count": null,
   "metadata": {},
   "outputs": [],
   "source": [
    "path   = \".\"\n",
    "fname  = \"wrf_filtered.nc\"\n",
    "ncfile = os.path.join(path,fname)"
   ]
  },
  {
   "cell_type": "code",
   "execution_count": null,
   "metadata": {},
   "outputs": [],
   "source": [
    "ds = xr.open_dataset(ncfile)\n",
    "print(ds.keys())"
   ]
  },
  {
   "cell_type": "code",
   "execution_count": null,
   "metadata": {},
   "outputs": [],
   "source": [
    "ds=ds.rename({'XTIME':'Time'})\n",
    "ds.T2.sel(Time='2015-12-3 15:00')"
   ]
  },
  {
   "cell_type": "code",
   "execution_count": null,
   "metadata": {},
   "outputs": [],
   "source": [
    "prj_ce  = ccrs.PlateCarree()"
   ]
  },
  {
   "cell_type": "code",
   "execution_count": null,
   "metadata": {},
   "outputs": [],
   "source": [
    "%%time\n",
    "ax = plt.axes(projection=prj_ce)\n",
    "ax.coastlines()\n",
    "ax.gridlines(draw_labels=True)\n",
    "ds.T2.sel(Time='2015-12-3 15:00').plot.contourf('XLONG','XLAT',ax=ax,levels=16)"
   ]
  },
  {
   "cell_type": "code",
   "execution_count": null,
   "metadata": {},
   "outputs": [],
   "source": [
    "prj_lcc = ccrs.LambertConformal(central_longitude  = ds.attrs['CEN_LON'], \n",
    "                                central_latitude   = ds.attrs['CEN_LAT'], \n",
    "                                standard_parallels = (ds.attrs['TRUELAT1'],ds.attrs['TRUELAT2']), \n",
    "                               )"
   ]
  },
  {
   "cell_type": "code",
   "execution_count": null,
   "metadata": {},
   "outputs": [],
   "source": [
    "%%time\n",
    "ax = plt.axes(projection=prj_lcc)\n",
    "ax.coastlines()\n",
    "ax.gridlines(draw_labels=True)\n",
    "ds.T2.sel(Time='2015-12-3 15:00').plot.contourf('XLONG','XLAT',\n",
    "                                                ax=ax,\n",
    "                                                transform = prj_ce,\n",
    "                                                levels=16,\n",
    "                                               )"
   ]
  },
  {
   "cell_type": "code",
   "execution_count": null,
   "metadata": {},
   "outputs": [],
   "source": [
    "LL_lat = ds.isel(Time=0,south_north=0,west_east=0).XLAT.values\n",
    "LL_lon = ds.isel(Time=0,south_north=0,west_east=0).XLONG.values\n",
    "UR_lat = ds.isel(Time=0,south_north=-1,west_east=-1).XLAT.values\n",
    "UR_lon = ds.isel(Time=0,south_north=-1,west_east=-1).XLONG.values\n",
    "\n",
    "#Upper right\n",
    "UR = (UR_lon,UR_lat)\n",
    "\n",
    "#Lower left\n",
    "LL = (LL_lon,LL_lat)"
   ]
  },
  {
   "cell_type": "code",
   "execution_count": null,
   "metadata": {},
   "outputs": [],
   "source": [
    "NY = ds.sizes['south_north']\n",
    "NX = ds.sizes['west_east']\n",
    "\n",
    "X_max = NX*ds.attrs['DX']\n",
    "Y_max = NY*ds.attrs['DY']\n",
    "extent = [-0.5*X_max,0.5*X_max,-0.5*Y_max,0.5*Y_max]"
   ]
  },
  {
   "cell_type": "code",
   "execution_count": null,
   "metadata": {},
   "outputs": [],
   "source": [
    "%%time\n",
    "ax = plt.axes(projection=prj_lcc)\n",
    "ax.coastlines()\n",
    "ax.gridlines(draw_labels=True)\n",
    "data = ds.T2.sel(Time='2015-12-3 15:00').values\n",
    "\n",
    "ax.contourf(data,\n",
    "            extent = extent,\n",
    "            transform = prj_lcc,\n",
    "            levels=16\n",
    "           )\n",
    "#ax.set_extent([0,40,20,55],crs=prj_ce)"
   ]
  },
  {
   "cell_type": "code",
   "execution_count": null,
   "metadata": {},
   "outputs": [],
   "source": [
    "%%time\n",
    "ax = plt.axes(projection=prj_lcc)\n",
    "ax.coastlines()\n",
    "ax.gridlines(draw_labels=True)\n",
    "data = ds.T2.sel(Time='2015-12-3 15:00').values\n",
    "\n",
    "ax.imshow(data,extent = extent)"
   ]
  },
  {
   "cell_type": "code",
   "execution_count": null,
   "metadata": {},
   "outputs": [],
   "source": [
    "ds.close()"
   ]
  }
 ],
 "metadata": {
  "kernelspec": {
   "display_name": "Python 3",
   "language": "python",
   "name": "python3"
  },
  "language_info": {
   "codemirror_mode": {
    "name": "ipython",
    "version": 3
   },
   "file_extension": ".py",
   "mimetype": "text/x-python",
   "name": "python",
   "nbconvert_exporter": "python",
   "pygments_lexer": "ipython3",
   "version": "3.8.0"
  }
 },
 "nbformat": 4,
 "nbformat_minor": 2
}
