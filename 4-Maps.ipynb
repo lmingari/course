{
 "cells": [
  {
   "cell_type": "markdown",
   "metadata": {},
   "source": [
    "# Map visualization\n",
    "\n",
    "## Importing modules and packages\n",
    "\n",
    "Cartopy is a Python package designed for geospatial data processing in order to produce maps and other geospatial data analyses."
   ]
  },
  {
   "cell_type": "code",
   "execution_count": null,
   "metadata": {
    "collapsed": true
   },
   "outputs": [],
   "source": [
    "import numpy as np\n",
    "import xarray as xr\n",
    "import matplotlib.pyplot as plt\n",
    "import cartopy.crs as ccrs\n",
    "import os"
   ]
  },
  {
   "cell_type": "markdown",
   "metadata": {},
   "source": [
    "## Creating a map"
   ]
  },
  {
   "cell_type": "markdown",
   "metadata": {},
   "source": [
    "Define a projection:\n",
    "\n",
    "* Equidistant cylindrical projection: a simple projection which maps meridians to vertical straight lines of constant spacing (for meridional intervals of constant spacing), and circles of latitude to horizontal straight lines of constant spacing (for constant intervals of parallels).\n",
    "* Lambert Conformal Conic projection: one of the best projections for middle latitudes with an east–west orientation. It can use a single latitude line as its point of contact (a tangent line), or the cone can intersect the earth's surface along two lines, called secants. Along these two lines there is no distortion, but distortion does occur as the distance from the secants increases.\n",
    "\n",
    "![Lambert Conformal Conic](4-Maps/image002.gif)\n"
   ]
  },
  {
   "cell_type": "code",
   "execution_count": null,
   "metadata": {},
   "outputs": [],
   "source": [
    "#Define an equidistant cylindrical projection\n",
    "prj_ec  = ccrs.PlateCarree()\n",
    "\n",
    "ax = plt.axes(projection=prj_ec)\n",
    "ax.gridlines(draw_labels=True)\n",
    "ax.coastlines()\n",
    "\n",
    "plt.show()"
   ]
  },
  {
   "cell_type": "code",
   "execution_count": null,
   "metadata": {},
   "outputs": [],
   "source": [
    "#Define a Lambert Conformal Conic projection\n",
    "prj_lcc = ccrs.LambertConformal(central_longitude  = -45.0, \n",
    "                                central_latitude   = -40.0, \n",
    "                                standard_parallels = (-40,-40), \n",
    "                                cutoff             = 30\n",
    "                               )\n",
    "\n",
    "ax = plt.axes(projection=prj_lcc)\n",
    "ax.gridlines(draw_labels=True)\n",
    "ax.coastlines()\n",
    "\n",
    "plt.show()"
   ]
  },
  {
   "cell_type": "markdown",
   "metadata": {},
   "source": [
    "## Plotting on a map\n",
    "\n",
    "We can plot a line between two points"
   ]
  },
  {
   "cell_type": "code",
   "execution_count": null,
   "metadata": {
    "collapsed": true
   },
   "outputs": [],
   "source": [
    "lons = [-170., 60.]\n",
    "lats = [-40., 10.]"
   ]
  },
  {
   "cell_type": "code",
   "execution_count": null,
   "metadata": {},
   "outputs": [],
   "source": [
    "ax = plt.axes(projection=prj_ec)\n",
    "ax.gridlines(draw_labels=True)\n",
    "ax.coastlines()\n",
    "\n",
    "ax.plot(lons, lats,\n",
    "        color='blue', \n",
    "        linestyle='--',\n",
    "       )\n",
    "\n",
    "plt.show()"
   ]
  },
  {
   "cell_type": "code",
   "execution_count": null,
   "metadata": {},
   "outputs": [],
   "source": [
    "ax = plt.axes(projection=prj_lcc)\n",
    "ax.gridlines(draw_labels=True)\n",
    "ax.coastlines()\n",
    "\n",
    "ax.plot(lons, lats,\n",
    "        color='blue', \n",
    "        linestyle='--',\n",
    "        transform=prj_ec,\n",
    "       )\n",
    "\n",
    "plt.show()"
   ]
  },
  {
   "cell_type": "code",
   "execution_count": null,
   "metadata": {
    "collapsed": true
   },
   "outputs": [],
   "source": [
    "P1, P2 = prj_lcc.transform_points(prj_ec,np.array(lons),np.array(lats))\n",
    "x = [P1[0],P2[0]]\n",
    "y = [P1[1],P2[1]]"
   ]
  },
  {
   "cell_type": "code",
   "execution_count": null,
   "metadata": {},
   "outputs": [],
   "source": [
    "ax = plt.axes(projection=prj_lcc)\n",
    "ax.gridlines(draw_labels=True)\n",
    "ax.coastlines()\n",
    "\n",
    "ax.plot(x, y,\n",
    "        color='red', \n",
    "        linestyle='-',\n",
    "       )\n",
    "\n",
    "plt.show()"
   ]
  },
  {
   "cell_type": "markdown",
   "metadata": {},
   "source": [
    "## Opening the output netCDF file"
   ]
  },
  {
   "cell_type": "markdown",
   "metadata": {},
   "source": [
    "Define the path and the filename of the netCDF file and open it as a dataset:"
   ]
  },
  {
   "cell_type": "code",
   "execution_count": null,
   "metadata": {
    "scrolled": true
   },
   "outputs": [],
   "source": [
    "path   = \"4-Maps\"\n",
    "fname  = \"puyehue-2011-regional.res.nc\"\n",
    "ncfile = os.path.join(path,fname)\n",
    "ds     = xr.open_dataset(ncfile)"
   ]
  },
  {
   "cell_type": "markdown",
   "metadata": {},
   "source": [
    "Print fields and global attributes:"
   ]
  },
  {
   "cell_type": "code",
   "execution_count": null,
   "metadata": {},
   "outputs": [],
   "source": [
    "print(ds.keys())"
   ]
  },
  {
   "cell_type": "markdown",
   "metadata": {},
   "source": [
    "Opening another file, e.g., ERA5 data:"
   ]
  },
  {
   "cell_type": "code",
   "execution_count": null,
   "metadata": {},
   "outputs": [],
   "source": [
    "path   = \"4-Maps\"\n",
    "fname  = \"puyehue-2011-global.era5pl.0p5deg.nc\"\n",
    "ncfile = os.path.join(path,fname)\n",
    "ds_met = xr.open_dataset(ncfile)"
   ]
  },
  {
   "cell_type": "code",
   "execution_count": null,
   "metadata": {},
   "outputs": [],
   "source": [
    "ds_met"
   ]
  },
  {
   "cell_type": "markdown",
   "metadata": {},
   "source": [
    "## Selecting variables\n",
    "\n",
    "Next, select the variable you are interested in. For instance, the `COL_MASS` variable here:"
   ]
  },
  {
   "cell_type": "code",
   "execution_count": null,
   "metadata": {},
   "outputs": [],
   "source": [
    "var = ds.COL_MASS\n",
    "print(var)"
   ]
  },
  {
   "cell_type": "markdown",
   "metadata": {},
   "source": [
    "You can see that `var` has assigned coordinate variables (lon, lat, and time) and some attributes with information. For example, in this case the column mass is stored in grams per meter square ($g\\,m^{-2}$)."
   ]
  },
  {
   "cell_type": "code",
   "execution_count": null,
   "metadata": {
    "collapsed": true
   },
   "outputs": [],
   "source": [
    "col_mass = var.sel(time='2011-6-8 18:00')"
   ]
  },
  {
   "cell_type": "markdown",
   "metadata": {},
   "source": [
    "You can retrieve global attributes with:"
   ]
  },
  {
   "cell_type": "code",
   "execution_count": null,
   "metadata": {
    "collapsed": true
   },
   "outputs": [],
   "source": [
    "latmin = ds.attrs['LATMIN']\n",
    "latmax = ds.attrs['LATMAX']\n",
    "lonmin = ds.attrs['LONMIN']\n",
    "lonmax = ds.attrs['LONMAX']"
   ]
  },
  {
   "cell_type": "code",
   "execution_count": null,
   "metadata": {
    "collapsed": true
   },
   "outputs": [],
   "source": [
    "z = ds_met.z.sel(time='2011-6-8 18:00', level=250)/9.81"
   ]
  },
  {
   "cell_type": "markdown",
   "metadata": {},
   "source": [
    "## Contours on a map"
   ]
  },
  {
   "cell_type": "code",
   "execution_count": null,
   "metadata": {},
   "outputs": [],
   "source": [
    "ax = plt.axes(projection=prj_ec)\n",
    "ax.coastlines()\n",
    "gl=ax.gridlines(draw_labels=True)\n",
    "gl.ylabels_right = False\n",
    "gl.xlabels_top   = False\n",
    "\n",
    "col_mass.plot.contourf(ax     = ax, \n",
    "                       vmin   = 0, \n",
    "                       vmax   = 50,\n",
    "                       levels = 15,\n",
    "                       #cmap   = 'RdBu',\n",
    "                      )\n",
    "\n",
    "plt.show()"
   ]
  },
  {
   "cell_type": "code",
   "execution_count": null,
   "metadata": {},
   "outputs": [],
   "source": [
    "z.plot.contour(ax=ax, levels=8)\n",
    "ax.get_figure()"
   ]
  },
  {
   "cell_type": "markdown",
   "metadata": {},
   "source": [
    "Use `set_extent` to zoom in:"
   ]
  },
  {
   "cell_type": "code",
   "execution_count": null,
   "metadata": {},
   "outputs": [],
   "source": [
    "extent = [ lonmin, lonmax, latmin, latmax ]\n",
    "\n",
    "ax.set_extent(extent, crs=prj_ec)\n",
    "ax.get_figure()"
   ]
  },
  {
   "cell_type": "code",
   "execution_count": null,
   "metadata": {},
   "outputs": [],
   "source": [
    "ax = plt.axes(projection=prj_lcc)\n",
    "ax.coastlines()\n",
    "ax.gridlines(draw_labels=True)\n",
    "\n",
    "col_mass.plot.contourf(ax   = ax, \n",
    "                       vmin = 0, \n",
    "                       vmax = 50,\n",
    "                       transform = prj_ec, \n",
    "                      )\n",
    "\n",
    "plt.show()"
   ]
  },
  {
   "cell_type": "code",
   "execution_count": null,
   "metadata": {},
   "outputs": [],
   "source": [
    "ax = plt.axes(projection=prj_lcc)\n",
    "ax.coastlines()\n",
    "ax.gridlines(draw_labels=True)\n",
    "\n",
    "levels= np.logspace(-1,2,num=11)\n",
    "\n",
    "col_mass.plot.contourf(ax        = ax, \n",
    "                       levels    = levels,\n",
    "                       cmap      = 'viridis',\n",
    "                       transform = prj_ec, \n",
    "                      )\n",
    "\n",
    "plt.show()"
   ]
  },
  {
   "cell_type": "code",
   "execution_count": null,
   "metadata": {},
   "outputs": [],
   "source": [
    "ax = plt.axes(projection=prj_lcc)\n",
    "ax.coastlines()\n",
    "ax.gridlines(draw_labels=True)\n",
    "\n",
    "levels= np.logspace(-1,2,num=11)\n",
    "\n",
    "col_mass.plot.contourf(ax        = ax, \n",
    "                       levels    = levels,\n",
    "                       cmap      = 'viridis',\n",
    "                       extend    = 'max',\n",
    "                       transform = prj_ec, \n",
    "                      )\n",
    "\n",
    "plt.show()"
   ]
  },
  {
   "cell_type": "code",
   "execution_count": null,
   "metadata": {},
   "outputs": [],
   "source": [
    "z.plot.contour(ax=ax, \n",
    "               transform=prj_ec, \n",
    "               levels=8\n",
    "              )\n",
    "ax.get_figure()"
   ]
  },
  {
   "cell_type": "code",
   "execution_count": null,
   "metadata": {},
   "outputs": [],
   "source": [
    "ax.set_extent(extent, crs=prj_ec)\n",
    "ax.gridlines(draw_labels=True)\n",
    "ax.get_figure()"
   ]
  },
  {
   "cell_type": "markdown",
   "metadata": {},
   "source": [
    "## Contour Raster Mode\n",
    "Raster contours are created by individually assigning colors to the elements of a 2D array of rectangular cells. \n",
    "Raster fill can be much faster."
   ]
  },
  {
   "cell_type": "code",
   "execution_count": null,
   "metadata": {},
   "outputs": [],
   "source": [
    "ax = plt.axes(projection=prj_ec)\n",
    "ax.coastlines()\n",
    "gl = ax.gridlines(draw_labels=True)\n",
    "gl.ylabels_right = False\n",
    "gl.xlabels_top   = False\n",
    "\n",
    "col_mass.plot.pcolormesh(ax   = ax, \n",
    "                         vmin = 0.1, \n",
    "                         vmax = 100,\n",
    "                        )\n",
    "\n",
    "plt.show()"
   ]
  },
  {
   "cell_type": "code",
   "execution_count": null,
   "metadata": {
    "collapsed": true
   },
   "outputs": [],
   "source": [
    "#Creating a logarithmic scale colormap\n",
    "import matplotlib.colors as colors\n",
    "vmin  = 0.1\n",
    "vmax  = 100\n",
    "norms = colors.LogNorm(vmin=vmin, vmax=vmax)\n",
    "\n",
    "#Remove negative a zeros values\n",
    "col_mass.values[col_mass.values<=vmin] = vmin"
   ]
  },
  {
   "cell_type": "code",
   "execution_count": null,
   "metadata": {},
   "outputs": [],
   "source": [
    "ax = plt.axes(projection=prj_ec)\n",
    "ax.coastlines()\n",
    "gl=ax.gridlines(draw_labels=True)\n",
    "gl.ylabels_right = False\n",
    "gl.xlabels_top   = False\n",
    "\n",
    "col_mass.plot.pcolormesh(ax   = ax, \n",
    "                         norm = norms,\n",
    "                         cmap = 'viridis',\n",
    "                        )\n",
    "\n",
    "plt.show()"
   ]
  },
  {
   "cell_type": "markdown",
   "metadata": {},
   "source": [
    "For regular grids you can use `imshow` for a better performance:"
   ]
  },
  {
   "cell_type": "code",
   "execution_count": null,
   "metadata": {},
   "outputs": [],
   "source": [
    "ax = plt.axes(projection=prj_ec)\n",
    "ax.coastlines()\n",
    "gl=ax.gridlines(draw_labels=True)\n",
    "gl.ylabels_right = False\n",
    "gl.xlabels_top   = False\n",
    "\n",
    "c=col_mass.plot.imshow(ax   = ax, \n",
    "                       norm = norms,\n",
    "                       cmap = 'viridis',\n",
    "                      )\n",
    "\n",
    "#Zoom in\n",
    "#ax.set_extent([-60,-59,-42,-41], crs=prj_ec)\n",
    "\n",
    "plt.show()"
   ]
  },
  {
   "cell_type": "markdown",
   "metadata": {},
   "source": [
    "## Performance"
   ]
  },
  {
   "cell_type": "code",
   "execution_count": null,
   "metadata": {
    "scrolled": true
   },
   "outputs": [],
   "source": [
    "%%time\n",
    "\n",
    "ax = plt.axes(projection=prj_ec)\n",
    "ax.coastlines()\n",
    "ax.gridlines(draw_labels=True)\n",
    "\n",
    "path = \"4-Maps/native\"\n",
    "show_colorbar = True\n",
    "for i in range(len(ds.time)):\n",
    "    col_mass = var.isel(time=i)\n",
    "    contour  = col_mass.plot.contourf(ax=ax, \n",
    "                                      vmin=0, \n",
    "                                      vmax=50,\n",
    "                                      add_colorbar=show_colorbar,\n",
    "                                     )\n",
    "    show_colorbar = False\n",
    "    fname = \"{timestep:03d}.png\".format(timestep=i)\n",
    "    plt.savefig(os.path.join(path,fname))\n",
    "    for coll in contour.collections:\n",
    "        coll.remove()\n",
    "    del contour"
   ]
  },
  {
   "cell_type": "code",
   "execution_count": null,
   "metadata": {},
   "outputs": [],
   "source": [
    "%%time\n",
    "\n",
    "ax = plt.axes(projection=prj_lcc)\n",
    "ax.coastlines()\n",
    "ax.gridlines(draw_labels=True)\n",
    "\n",
    "path = \"4-Maps/lambert\"\n",
    "show_colorbar = True\n",
    "for i in range(len(ds.time)):\n",
    "    col_mass = var.isel(time=i)\n",
    "    contour  = col_mass.plot.contourf(ax=ax, \n",
    "                                      transform=prj_ec, \n",
    "                                      vmin=0, \n",
    "                                      vmax=50,\n",
    "                                      add_colorbar=show_colorbar,\n",
    "                                     )\n",
    "    show_colorbar = False\n",
    "    fname = \"{timestep:03d}.png\".format(timestep=i)\n",
    "    plt.savefig(os.path.join(path,fname))\n",
    "    for coll in contour.collections:\n",
    "        coll.remove()\n",
    "    del contour"
   ]
  },
  {
   "cell_type": "code",
   "execution_count": null,
   "metadata": {},
   "outputs": [],
   "source": [
    "%%time\n",
    "\n",
    "ax = plt.axes(projection=prj_ec)\n",
    "ax.coastlines()\n",
    "ax.gridlines(draw_labels=True)\n",
    "\n",
    "path = \"4-Maps/raster\"\n",
    "show_colorbar = True\n",
    "for i in range(len(ds.time)):\n",
    "    col_mass = var.isel(time=i)\n",
    "    contour  = col_mass.plot.pcolormesh(ax=ax, \n",
    "                                        vmin=0, \n",
    "                                        vmax=50,\n",
    "                                        add_colorbar=show_colorbar,\n",
    "                                       )\n",
    "    show_colorbar = False\n",
    "    fname = \"{timestep:03d}.png\".format(timestep=i)\n",
    "    plt.savefig(os.path.join(path,fname))\n",
    "    contour.remove()\n",
    "    del contour"
   ]
  },
  {
   "cell_type": "code",
   "execution_count": null,
   "metadata": {},
   "outputs": [],
   "source": [
    "%%time\n",
    "\n",
    "ax = plt.axes(projection=prj_ec)\n",
    "ax.coastlines()\n",
    "ax.gridlines(draw_labels=True)\n",
    "\n",
    "path = \"4-Maps/imshow\"\n",
    "show_colorbar = True\n",
    "for i in range(len(ds.time)):\n",
    "    col_mass = var.isel(time=i)\n",
    "    contour  = col_mass.plot.imshow(ax=ax, \n",
    "                                    vmin=0, \n",
    "                                    vmax=50,\n",
    "                                    add_colorbar=show_colorbar,\n",
    "                                   )\n",
    "    show_colorbar = False\n",
    "    fname = \"{timestep:03d}.png\".format(timestep=i)\n",
    "    plt.savefig(os.path.join(path,fname))\n",
    "    contour.remove()\n",
    "    del contour"
   ]
  },
  {
   "cell_type": "markdown",
   "metadata": {},
   "source": [
    "## Closing files"
   ]
  },
  {
   "cell_type": "code",
   "execution_count": null,
   "metadata": {
    "collapsed": true
   },
   "outputs": [],
   "source": [
    "ds.close()"
   ]
  },
  {
   "cell_type": "code",
   "execution_count": null,
   "metadata": {
    "collapsed": true,
    "scrolled": true
   },
   "outputs": [],
   "source": [
    "ds_met.close()"
   ]
  }
 ],
 "metadata": {
  "kernelspec": {
   "display_name": "Python 3",
   "language": "python",
   "name": "python3"
  },
  "language_info": {
   "codemirror_mode": {
    "name": "ipython",
    "version": 3
   },
   "file_extension": ".py",
   "mimetype": "text/x-python",
   "name": "python",
   "nbconvert_exporter": "python",
   "pygments_lexer": "ipython3",
   "version": "3.6.7"
  }
 },
 "nbformat": 4,
 "nbformat_minor": 2
}
