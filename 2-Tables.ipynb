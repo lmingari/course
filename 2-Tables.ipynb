{
 "cells": [
  {
   "cell_type": "markdown",
   "metadata": {},
   "source": [
    "# Working with tables\n",
    "\n",
    "## Object creation\n",
    "\n",
    "First, we are going to import the required packages:\n",
    "* pandas: library providing high-performance, easy-to-use data structures and data analysis tools for the Python programming language\n",
    "* numpy: NumPy is the fundamental package for scientific computing with Python\n",
    "* matplotlib: 2D plotting library which produces publication quality\n",
    "* os: required to manipulate path and filenames"
   ]
  },
  {
   "cell_type": "code",
   "execution_count": null,
   "metadata": {
    "collapsed": true
   },
   "outputs": [],
   "source": [
    "import pandas as pd\n",
    "import numpy as np\n",
    "import matplotlib.pyplot as plt\n",
    "import os"
   ]
  },
  {
   "cell_type": "markdown",
   "metadata": {},
   "source": [
    "Creating a `DataFrame` by passing a NumPy array"
   ]
  },
  {
   "cell_type": "code",
   "execution_count": null,
   "metadata": {
    "collapsed": true
   },
   "outputs": [],
   "source": [
    "df = pd.DataFrame(np.random.randn(12, 4), columns=list('ABCD'))\n",
    "df"
   ]
  },
  {
   "cell_type": "code",
   "execution_count": null,
   "metadata": {
    "collapsed": true
   },
   "outputs": [],
   "source": [
    "df.B"
   ]
  },
  {
   "cell_type": "code",
   "execution_count": null,
   "metadata": {
    "collapsed": true
   },
   "outputs": [],
   "source": [
    "df['B']"
   ]
  },
  {
   "cell_type": "markdown",
   "metadata": {},
   "source": [
    "## Viewing data\n",
    "\n",
    "Show the table head:"
   ]
  },
  {
   "cell_type": "code",
   "execution_count": null,
   "metadata": {
    "collapsed": true
   },
   "outputs": [],
   "source": [
    "df.head()"
   ]
  },
  {
   "cell_type": "markdown",
   "metadata": {},
   "source": [
    "The describe() method shows a quick statistic summary of your data:"
   ]
  },
  {
   "cell_type": "code",
   "execution_count": null,
   "metadata": {
    "collapsed": true
   },
   "outputs": [],
   "source": [
    "df.describe()"
   ]
  },
  {
   "cell_type": "markdown",
   "metadata": {},
   "source": [
    "## Creating a DataFrame from an input file: FALL3D example\n",
    "\n",
    "In the folder `pts_files` you will find a set of FALL3D output files.  \n",
    "containing information about evolution of the variables at some tracked \n",
    "points.\n",
    "\n",
    "Such information is printed as a single output file for each point \n",
    "specified in the `inputfilename.pts`.\n",
    "\n",
    "These files are generated only when the record `TRACKPOINTS` in the \n",
    "input `filename.inp` is set to `YES`. \n",
    "\n",
    "Look at the file `etna-2015.CATANIA.res` and open it using the `read_csv` method"
   ]
  },
  {
   "cell_type": "code",
   "execution_count": null,
   "metadata": {
    "collapsed": true
   },
   "outputs": [],
   "source": [
    "path     = \"2-Tables\"\n",
    "fname    = \"etna-2015.CATANIA.res\"\n",
    "pts_file = os.path.join(path,fname)"
   ]
  },
  {
   "cell_type": "code",
   "execution_count": null,
   "metadata": {
    "collapsed": true
   },
   "outputs": [],
   "source": [
    "mydateparser = lambda x: pd.datetime.strptime(x, \"%d%b%Y_%H:%M\")\n",
    "columns      = ['load',\n",
    "                'total',\n",
    "                'pm05',\n",
    "                'pm10',\n",
    "                'pm20',                \n",
    "               ]\n",
    "\n",
    "df = pd.read_csv(pts_file, \n",
    "                 skiprows         = 7, \n",
    "                 delim_whitespace = True, \n",
    "                 names            = columns, \n",
    "                 date_parser      = mydateparser,\n",
    "                )"
   ]
  },
  {
   "cell_type": "code",
   "execution_count": null,
   "metadata": {
    "collapsed": true
   },
   "outputs": [],
   "source": [
    "df.head()"
   ]
  },
  {
   "cell_type": "code",
   "execution_count": null,
   "metadata": {
    "collapsed": true
   },
   "outputs": [],
   "source": [
    "df.plot(y='load')\n",
    "df.plot(y='total')\n",
    "df.plot(y=['pm05','pm10','pm20'])"
   ]
  },
  {
   "cell_type": "code",
   "execution_count": null,
   "metadata": {
    "collapsed": true
   },
   "outputs": [],
   "source": [
    "plt.show()"
   ]
  },
  {
   "cell_type": "markdown",
   "metadata": {},
   "source": [
    "## Selecting data\n",
    "\n",
    "You can select via the position of the passed integers:"
   ]
  },
  {
   "cell_type": "code",
   "execution_count": null,
   "metadata": {
    "collapsed": true
   },
   "outputs": [],
   "source": [
    "df.iloc[0:3]"
   ]
  },
  {
   "cell_type": "markdown",
   "metadata": {},
   "source": [
    "Use `iloc` for purely integer-location based indexing for selection by position"
   ]
  },
  {
   "cell_type": "code",
   "execution_count": null,
   "metadata": {
    "collapsed": true
   },
   "outputs": [],
   "source": [
    "df.index"
   ]
  },
  {
   "cell_type": "markdown",
   "metadata": {},
   "source": [
    "Additionally, you can get a section using a label:"
   ]
  },
  {
   "cell_type": "code",
   "execution_count": null,
   "metadata": {
    "collapsed": true
   },
   "outputs": [],
   "source": [
    "df.loc['2015-12-3 09']"
   ]
  },
  {
   "cell_type": "code",
   "execution_count": null,
   "metadata": {
    "collapsed": true
   },
   "outputs": [],
   "source": [
    "df.loc['2015-12-3 09','load']"
   ]
  },
  {
   "cell_type": "markdown",
   "metadata": {},
   "source": [
    "Access a group of rows and columns by label(s) or a boolean array using `loc`"
   ]
  },
  {
   "cell_type": "code",
   "execution_count": null,
   "metadata": {
    "collapsed": true
   },
   "outputs": [],
   "source": [
    "# Convert grams/m3 to micro-grams/m3\n",
    "df.loc[:,df.columns != 'load'] *= 1E6\n",
    "df.tail()"
   ]
  },
  {
   "cell_type": "markdown",
   "metadata": {},
   "source": [
    "Selecting using boolean indexing"
   ]
  },
  {
   "cell_type": "code",
   "execution_count": null,
   "metadata": {
    "collapsed": true
   },
   "outputs": [],
   "source": [
    "df[df<1E-6]"
   ]
  },
  {
   "cell_type": "code",
   "execution_count": null,
   "metadata": {
    "collapsed": true
   },
   "outputs": [],
   "source": [
    "df[df<1E-6] = 0.0\n",
    "df.head()"
   ]
  },
  {
   "cell_type": "markdown",
   "metadata": {},
   "source": [
    "In pandas, the most common way to group by time is to use the .resample() method. \n",
    "This means that `df.resample('M')` creates an object to which we can apply other \n",
    "functions (e.g., 'mean', 'count', 'sum', ...)\n",
    "\n",
    "You can use the `resample` method to create new timeseries:"
   ]
  },
  {
   "cell_type": "code",
   "execution_count": null,
   "metadata": {
    "collapsed": true
   },
   "outputs": [],
   "source": [
    "df.resample('H').mean()"
   ]
  },
  {
   "cell_type": "markdown",
   "metadata": {},
   "source": [
    "## Opening FALL3D data from multiple locations"
   ]
  },
  {
   "cell_type": "code",
   "execution_count": null,
   "metadata": {
    "collapsed": true
   },
   "outputs": [],
   "source": [
    "import glob \n",
    "\n",
    "path      = \"2-Tables\"\n",
    "fnames    = os.path.join(path,\"*res\")\n",
    "pts_files = glob.glob(fnames)"
   ]
  },
  {
   "cell_type": "code",
   "execution_count": null,
   "metadata": {
    "collapsed": true
   },
   "outputs": [],
   "source": [
    "pts_files"
   ]
  },
  {
   "cell_type": "code",
   "execution_count": null,
   "metadata": {
    "collapsed": true
   },
   "outputs": [],
   "source": [
    "mydateparser = lambda x: pd.datetime.strptime(x, \"%d%b%Y_%H:%M\")\n",
    "cities       = [s.split('.')[1] for s in pts_files]\n",
    "columns      = ['load',\n",
    "                'total',\n",
    "                'pm05',\n",
    "                'pm10',\n",
    "                'pm20',                \n",
    "               ]\n",
    "\n",
    "args = dict(skiprows         = 7, \n",
    "            delim_whitespace = True, \n",
    "            names            = columns, \n",
    "            date_parser      = mydateparser,\n",
    "           )\n",
    "\n",
    "df = pd.concat((pd.read_csv(f,**args) for f in pts_files), \n",
    "               keys=cities, \n",
    "               names=[\"city\",\"datetime\"], \n",
    "              )\n"
   ]
  },
  {
   "cell_type": "markdown",
   "metadata": {},
   "source": [
    "It creates a MultiIndex (hierarchical index) object:"
   ]
  },
  {
   "cell_type": "code",
   "execution_count": null,
   "metadata": {
    "collapsed": true
   },
   "outputs": [],
   "source": [
    "df"
   ]
  },
  {
   "cell_type": "code",
   "execution_count": null,
   "metadata": {
    "collapsed": true
   },
   "outputs": [],
   "source": [
    "# Convert grams/m3 to micro-grams/m3\n",
    "df.loc[:,df.columns != 'load'] *= 1E6\n",
    "df.head()"
   ]
  },
  {
   "cell_type": "code",
   "execution_count": null,
   "metadata": {
    "collapsed": true
   },
   "outputs": [],
   "source": [
    "df.loc[('ATHENS','2015-12-03 13'),:]"
   ]
  },
  {
   "cell_type": "code",
   "execution_count": null,
   "metadata": {
    "collapsed": true
   },
   "outputs": [],
   "source": [
    "df.groupby(\"city\").max()"
   ]
  },
  {
   "cell_type": "code",
   "execution_count": null,
   "metadata": {
    "collapsed": true
   },
   "outputs": [],
   "source": [
    "df.loc['MESSINA'].plot(y = [\"total\", \"pm20\"])\n",
    "df.loc['MESSINA'].plot(y = \"load\")\n",
    "plt.show()"
   ]
  },
  {
   "cell_type": "markdown",
   "metadata": {},
   "source": [
    "We can remove the multilevel indexing using:"
   ]
  },
  {
   "cell_type": "code",
   "execution_count": null,
   "metadata": {
    "collapsed": true
   },
   "outputs": [],
   "source": [
    "df.reset_index(level=0,inplace=True)"
   ]
  },
  {
   "cell_type": "code",
   "execution_count": null,
   "metadata": {
    "collapsed": true
   },
   "outputs": [],
   "source": [
    "df"
   ]
  },
  {
   "cell_type": "code",
   "execution_count": null,
   "metadata": {
    "collapsed": true
   },
   "outputs": [],
   "source": [
    "df.groupby('city').plot()\n",
    "plt.show()"
   ]
  },
  {
   "cell_type": "markdown",
   "metadata": {
    "collapsed": true
   },
   "source": [
    "## Matplotlib, figures, axes, and subplots\n",
    "\n",
    "We use the matplotlib's graphing framework `pyplot` to create figures, and through those figures, one or more axes objects can be created. These axes objects are then used for most plotting actions.\n",
    "\n",
    "First, import `pyplot` and create a figure:\n",
    "```python\n",
    "import matplotlib.pyplot as plt \n",
    "\n",
    "fig, ax = plt.subplots()\n",
    "```\n",
    "\n",
    "`fig` means figure and represents your entire graphic. Your graph is what's called a subplot or axis and is represented by `ax`.\n",
    "\n",
    "For example, "
   ]
  },
  {
   "cell_type": "code",
   "execution_count": null,
   "metadata": {
    "collapsed": true
   },
   "outputs": [],
   "source": [
    "for (name,dataframe) in df.groupby('city'):\n",
    "    fig, (ax1,ax2) = plt.subplots(ncols=2,figsize=(15,5))\n",
    "    dataframe.plot(y='total', title=name, ax=ax1)\n",
    "    dataframe.plot(y='load',  title=name, ax=ax2)\n",
    "    ax1.set_ylabel(r'Concentration [$\\mu g/m^3$]')\n",
    "    ax2.set_ylabel(r'Deposit load [$g/m^2$]')\n",
    "\n",
    "plt.show()    "
   ]
  }
 ],
 "metadata": {
  "kernelspec": {
   "display_name": "Python 3",
   "language": "python",
   "name": "python3"
  },
  "language_info": {
   "codemirror_mode": {
    "name": "ipython",
    "version": 3
   },
   "file_extension": ".py",
   "mimetype": "text/x-python",
   "name": "python",
   "nbconvert_exporter": "python",
   "pygments_lexer": "ipython3",
   "version": "3.8.0"
  }
 },
 "nbformat": 4,
 "nbformat_minor": 2
}
